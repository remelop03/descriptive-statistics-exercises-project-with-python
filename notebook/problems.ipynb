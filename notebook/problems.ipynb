{
 "cells": [
  {
   "cell_type": "markdown",
   "id": "ac622319",
   "metadata": {},
   "source": [
    "# Descriptive statistics problems"
   ]
  },
  {
   "cell_type": "markdown",
   "id": "5e0ab0d5",
   "metadata": {},
   "source": [
    "### Exercise 1\n",
    "\n",
    "We will use NumPy to obtain information to describe statistically.\n",
    "\n",
    "- Generate an array of 100 elements following a normal distribution.\n",
    "- Generate an array of 100 elements following a chi-square distribution with 3 degrees of freedom.\n",
    "- Calculate the main metrics and statistical measures that best describe the two vectors."
   ]
  },
  {
   "cell_type": "code",
   "execution_count": 12,
   "id": "34720ab6",
   "metadata": {},
   "outputs": [
    {
     "name": "stdout",
     "output_type": "stream",
     "text": [
      "Normal vector:\n",
      " [ 0.49671415 -0.1382643   0.64768854  1.52302986 -0.23415337 -0.23413696\n",
      "  1.57921282  0.76743473 -0.46947439  0.54256004 -0.46341769 -0.46572975\n",
      "  0.24196227 -1.91328024 -1.72491783 -0.56228753 -1.01283112  0.31424733\n",
      " -0.90802408 -1.4123037   1.46564877 -0.2257763   0.0675282  -1.42474819\n",
      " -0.54438272  0.11092259 -1.15099358  0.37569802 -0.60063869 -0.29169375\n",
      " -0.60170661  1.85227818 -0.01349722 -1.05771093  0.82254491 -1.22084365\n",
      "  0.2088636  -1.95967012 -1.32818605  0.19686124  0.73846658  0.17136828\n",
      " -0.11564828 -0.3011037  -1.47852199 -0.71984421 -0.46063877  1.05712223\n",
      "  0.34361829 -1.76304016  0.32408397 -0.38508228 -0.676922    0.61167629\n",
      "  1.03099952  0.93128012 -0.83921752 -0.30921238  0.33126343  0.97554513\n",
      " -0.47917424 -0.18565898 -1.10633497 -1.19620662  0.81252582  1.35624003\n",
      " -0.07201012  1.0035329   0.36163603 -0.64511975  0.36139561  1.53803657\n",
      " -0.03582604  1.56464366 -2.6197451   0.8219025   0.08704707 -0.29900735\n",
      "  0.09176078 -1.98756891 -0.21967189  0.35711257  1.47789404 -0.51827022\n",
      " -0.8084936  -0.50175704  0.91540212  0.32875111 -0.5297602   0.51326743\n",
      "  0.09707755  0.96864499 -0.70205309 -0.32766215 -0.39210815 -1.46351495\n",
      "  0.29612028  0.26105527  0.00511346 -0.23458713]\n",
      "\n"
     ]
    }
   ],
   "source": [
    "# TODO\n",
    "import numpy as np\n",
    "import statistics as stats\n",
    "from scipy.stats import skew\n",
    "\n",
    "np.random.seed(42)\n",
    "\n",
    "normal = np.random.normal(size=100)\n",
    "print(f\"Normal vector:\\n {normal}\\n\")"
   ]
  },
  {
   "cell_type": "code",
   "execution_count": 13,
   "id": "ae0b4852",
   "metadata": {},
   "outputs": [
    {
     "name": "stdout",
     "output_type": "stream",
     "text": [
      "Mean: -0.10384651739409385\n",
      "\n",
      "Median: -0.1269562917797126\n",
      "\n",
      "Mode: 0.4967141530112327\n",
      "\n",
      "Normal range: 4.472023288598682\n",
      "\n",
      "Variance: 0.82476989363016\n",
      "\n",
      "Standard deviation: 0.9081684280078007\n",
      "\n"
     ]
    }
   ],
   "source": [
    "import numpy as np\n",
    "import statistics as stats\n",
    "from scipy.stats import skew\n",
    "from scipy.stats import kurtosis\n",
    "\n",
    "mean = stats.mean(normal)\n",
    "print(f\"Mean: {mean}\\n\")\n",
    "\n",
    "median = stats.median(normal)\n",
    "print(f\"Median: {median}\\n\")\n",
    "\n",
    "mode = stats.mode(normal)\n",
    "print(f\"Mode: {mode}\\n\")\n",
    "\n",
    "range_normal = max(normal) - min(normal)\n",
    "print(f\"Normal range: {range_normal}\\n\")\n",
    "\n",
    "variance = stats.variance(normal)\n",
    "std = stats.stdev(normal)\n",
    "print(f\"Variance: {variance}\\n\")\n",
    "print(f\"Standard deviation: {std}\\n\")\n",
    "\n",
    "skewness = skew(normal)\n",
    "\n",
    "kurt = kurtosis(normal)"
   ]
  },
  {
   "cell_type": "code",
   "execution_count": 16,
   "id": "11742730",
   "metadata": {},
   "outputs": [
    {
     "name": "stdout",
     "output_type": "stream",
     "text": [
      "Chi-square vector:\n",
      " [ 3.57924635  2.04721171  1.86317567  1.8632062   7.67752559  4.41481603\n",
      "  1.45899397  3.71259767  2.89603356  0.16028544  0.7579995   3.08014759\n",
      "  7.14749562  1.8787948   1.34383677  2.58124966  1.26145621  1.75822425\n",
      "  2.30429728  0.71310053  4.59945242  0.56486106  2.78496165  4.3197763\n",
      "  2.72345432  2.09231477  1.74144515  1.4729955   5.44299884  3.10578935\n",
      "  1.59640334  1.15522492  3.91983193  5.34434366  4.97870708  0.94940659\n",
      "  1.72707227  1.4437254   1.95480473  4.56550971  6.66048595  3.20498697\n",
      "  1.19875584  2.25679276  7.60811047  2.52647319  1.74517391  1.89023134\n",
      "  3.19292751  0.98631927  1.40859122  4.9220738   3.11800508  2.54939025\n",
      "  5.11368959  1.12158074  1.69466466  3.03326512  2.9439305   0.4168513\n",
      "  1.53749288  2.0019707   3.31954478  2.93509884  2.17617828  0.15830407\n",
      "  2.27652419  2.46587889 12.72456265  1.94196651  3.04725102  5.77516859\n",
      "  4.36378602  6.86491387  0.42618426  0.78098785  1.3113313   0.33084683\n",
      "  2.48460231  0.85740894  7.53845363  1.01734997  1.7044591   4.56886089\n",
      "  0.55649438  0.29858042  2.75534614  2.9409741   4.4625349   3.65222252\n",
      "  3.03548985  1.15103525  2.87187902  3.02542952  1.10535719  9.13003056\n",
      "  3.51390358  0.79761542  4.48007115  5.09450961]\n",
      "\n"
     ]
    }
   ],
   "source": [
    "import numpy as np\n",
    "\n",
    "np.random.seed(42)\n",
    "\n",
    "chi = np.random.chisquare(3, 100)\n",
    "\n",
    "print(f\"Chi-square vector:\\n {chi}\\n\")"
   ]
  },
  {
   "cell_type": "code",
   "execution_count": 18,
   "id": "d242c00b",
   "metadata": {},
   "outputs": [
    {
     "name": "stdout",
     "output_type": "stream",
     "text": [
      "Mean: 2.8805567284911144\n",
      "\n",
      "Median: 2.4752406028230665\n",
      "\n",
      "Mode: 3.579246352985752\n",
      "\n",
      "Normal range: 12.566258583681838\n",
      "\n",
      "Variance: 4.556263153202665\n",
      "\n",
      "Standard deviation: 2.1345405016543175\n",
      "\n"
     ]
    }
   ],
   "source": [
    "import numpy as np\n",
    "import statistics as stats\n",
    "from scipy.stats import skew\n",
    "from scipy.stats import kurtosis\n",
    "\n",
    "mean = stats.mean(chi)\n",
    "print(f\"Mean: {mean}\\n\")\n",
    "\n",
    "median = stats.median(chi)\n",
    "print(f\"Median: {median}\\n\")\n",
    "\n",
    "mode = stats.mode(chi)\n",
    "print(f\"Mode: {mode}\\n\")\n",
    "\n",
    "range_chi = max(chi) - min(chi)\n",
    "print(f\"Normal range: {range_chi}\\n\")\n",
    "\n",
    "variance = stats.variance(chi)\n",
    "std = stats.stdev(chi)\n",
    "print(f\"Variance: {variance}\\n\")\n",
    "print(f\"Standard deviation: {std}\\n\")\n",
    "\n",
    "skewness = skew(chi)\n",
    "\n",
    "kurt = kurtosis(chi)"
   ]
  },
  {
   "cell_type": "markdown",
   "id": "46c70c3d",
   "metadata": {},
   "source": [
    "### Exercise 2\n",
    "\n",
    "Write a Python program to calculate the standard deviation of the following data:\n",
    "\n",
    "```py\n",
    "data = [4, 2, 5, 8, 6]\n",
    "```"
   ]
  },
  {
   "cell_type": "code",
   "execution_count": 28,
   "id": "d590308e",
   "metadata": {},
   "outputs": [
    {
     "name": "stdout",
     "output_type": "stream",
     "text": [
      "The Mean of the data set is: 5.0\n",
      "The standard deviation of the dataset is 2.0\n",
      "Sample standard deviation of the dataset is 2.23606797749979\n"
     ]
    }
   ],
   "source": [
    "# TODO\n",
    "import math\n",
    "dataset = [4, 2, 5, 8, 6]\n",
    "\n",
    "#find the mean of dataset\n",
    "sm=0\n",
    "for i in range(len(dataset)):\n",
    "   sm+=dataset[i]\n",
    "   mean = sm/len(dataset)\n",
    "\n",
    "#calculating population standard deviation of the dataset\n",
    "deviation_sum = 0\n",
    "for i in range(len(dataset)):\n",
    "   deviation_sum+=(dataset[i]- mean)**2\n",
    "   psd = math.sqrt((deviation_sum)/len(dataset))\n",
    "\n",
    "#calculating sample standard deviation of the dataset\n",
    "ssd = math.sqrt((deviation_sum)/(len(dataset)-1))\n",
    "\n",
    "#display output\n",
    "print(f\"The Mean of the data set is:\", mean)\n",
    "print(\"The standard deviation of the dataset is\", psd)\n",
    "print(\"Sample standard deviation of the dataset is\", ssd)\n",
    "\n"
   ]
  }
 ],
 "metadata": {
  "kernelspec": {
   "display_name": "Python 3",
   "language": "python",
   "name": "python3"
  },
  "language_info": {
   "codemirror_mode": {
    "name": "ipython",
    "version": 3
   },
   "file_extension": ".py",
   "mimetype": "text/x-python",
   "name": "python",
   "nbconvert_exporter": "python",
   "pygments_lexer": "ipython3",
   "version": "3.11.4"
  }
 },
 "nbformat": 4,
 "nbformat_minor": 5
}
