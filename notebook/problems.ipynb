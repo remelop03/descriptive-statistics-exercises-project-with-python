{
 "cells": [
  {
   "cell_type": "markdown",
   "id": "ac622319",
   "metadata": {},
   "source": [
    "# Descriptive statistics problems"
   ]
  },
  {
   "cell_type": "markdown",
   "id": "5e0ab0d5",
   "metadata": {},
   "source": [
    "### Exercise 1\n",
    "\n",
    "We will use NumPy to obtain information to describe statistically.\n",
    "\n",
    "- Generate an array of 100 elements following a normal distribution.\n",
    "- Generate an array of 100 elements following a chi-square distribution with 3 degrees of freedom.\n",
    "- Calculate the main metrics and statistical measures that best describe the two vectors."
   ]
  },
  {
   "cell_type": "code",
   "execution_count": 9,
   "id": "34720ab6",
   "metadata": {},
   "outputs": [
    {
     "name": "stdout",
     "output_type": "stream",
     "text": [
      "Mean: -0.08680659800884377\n",
      "\n",
      "Median: -0.21269924497223358\n",
      "\n",
      "Range: 5.524732267948753\n",
      "\n",
      "Variance: 1.1323649097335788\n",
      "\n",
      "Standard deviation: 1.0641263598528037\n",
      "\n",
      "Skewness: 0.06787572738566455\n",
      "\n",
      "Kurtosis: 0.2921331540932073\n",
      "\n"
     ]
    }
   ],
   "source": [
    "# import libraries\n",
    "import matplotlib.pyplot as plt\n",
    "import numpy as np\n",
    "import pandas as pd\n",
    "import statistics as stats\n",
    "from scipy.stats import skew\n",
    "from scipy.stats import kurtosis\n",
    "\n",
    "#Normal distribution\n",
    "\n",
    "normal = np.random.normal(size=100)\n",
    "#print(f\"Normal vector:\\n {normal}\\n\")\n",
    "print(f\"Mean: {np.mean(normal)}\\n\")\n",
    "print(f\"Median: {np.median(normal)}\\n\")\n",
    "\n",
    "range=np.max(normal)-np.min(normal)\n",
    "print(f\"Range: {range}\\n\")\n",
    "\n",
    "print(f\"Variance: {np.var(normal)}\\n\")\n",
    "print(f\"Standard deviation: {np.std(normal)}\\n\")\n",
    "\n",
    "skewness = skew(normal)\n",
    "print(f\"Skewness: {skewness}\\n\")\n",
    "\n",
    "kurt = kurtosis(normal)\n",
    "print(f\"Kurtosis: {kurt}\\n\")\n"
   ]
  },
  {
   "cell_type": "code",
   "execution_count": 13,
   "id": "11742730",
   "metadata": {},
   "outputs": [
    {
     "name": "stdout",
     "output_type": "stream",
     "text": [
      "Mean: 3.161278004729175\n",
      "\n",
      "Median: 2.541529955020345\n",
      "\n",
      "Range: 12.791901817156859\n",
      "\n",
      "Variance: 6.786107097944312\n",
      "\n",
      "Standard deviation: 2.6050157577151642\n",
      "\n",
      "Skewness: 1.224191870828486\n",
      "\n",
      "Kurtosis: 1.281538823717943\n",
      "\n"
     ]
    }
   ],
   "source": [
    "# import libraries\n",
    "import matplotlib.pyplot as plt\n",
    "import numpy as np\n",
    "import pandas as pd\n",
    "import statistics as stats\n",
    "from scipy.stats import skew\n",
    "from scipy.stats import kurtosis\n",
    "\n",
    "#Chi-Square distribution\n",
    "\n",
    "#Syntax : numpy.random.chisquare(df, size=None)\n",
    "#Parameters : \n",
    "#1) df – number of degree of freedom and must be >0.\n",
    "#2) size – Output shape of scalar array.\n",
    "#Return : Return the scalar numpy array.\n",
    "\n",
    "chi = np.random.chisquare(3, 100)\n",
    "#print(f\"Chi-square vector:\\n {chi}\\n\")\n",
    "\n",
    "print(f\"Mean: {np.mean(chi)}\\n\")\n",
    "print(f\"Median: {np.median(chi)}\\n\")\n",
    "\n",
    "range=np.max(chi)-np.min(chi)\n",
    "print(f\"Range: {range}\\n\")\n",
    "\n",
    "print(f\"Variance: {np.var(chi)}\\n\")\n",
    "print(f\"Standard deviation: {np.std(chi)}\\n\")\n",
    "\n",
    "skewness = skew(chi)\n",
    "print(f\"Skewness: {skewness}\\n\")\n",
    "\n",
    "kurt = kurtosis(chi)\n",
    "print(f\"Kurtosis: {kurt}\\n\")\n",
    "\n"
   ]
  },
  {
   "cell_type": "markdown",
   "id": "46c70c3d",
   "metadata": {},
   "source": [
    "### Exercise 2\n",
    "\n",
    "Write a Python program to calculate the standard deviation of the following data:\n",
    "\n",
    "```py\n",
    "data = [4, 2, 5, 8, 6]\n",
    "```"
   ]
  },
  {
   "cell_type": "code",
   "execution_count": 16,
   "id": "d590308e",
   "metadata": {},
   "outputs": [
    {
     "name": "stdout",
     "output_type": "stream",
     "text": [
      "The Mean of the data set is:5.0\n",
      "The standard deviation of the dataset is: 5.0\n",
      "Sample standard deviation of the dataset is: 2.23606797749979\n"
     ]
    }
   ],
   "source": [
    "data = [4, 2, 5, 8, 6]\n",
    "\n",
    "n = len(data)\n",
    "mean = sum(data) / n\n",
    "variance = sum((x - mean) ** 2 for x in data) / (n - 1)\n",
    "std_dev = variance ** 0.5\n",
    "    \n",
    "#display output\n",
    "print(f\"The Mean of the data set is:{mean}\")\n",
    "print(f\"The standard deviation of the dataset is: {variance}\")\n",
    "print(f\"Sample standard deviation of the dataset is: {std_dev}\")\n",
    "\n"
   ]
  }
 ],
 "metadata": {
  "kernelspec": {
   "display_name": "Python 3",
   "language": "python",
   "name": "python3"
  },
  "language_info": {
   "codemirror_mode": {
    "name": "ipython",
    "version": 3
   },
   "file_extension": ".py",
   "mimetype": "text/x-python",
   "name": "python",
   "nbconvert_exporter": "python",
   "pygments_lexer": "ipython3",
   "version": "3.11.4"
  }
 },
 "nbformat": 4,
 "nbformat_minor": 5
}
